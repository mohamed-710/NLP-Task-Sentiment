{
 "cells": [
  {
   "cell_type": "code",
   "execution_count": 1,
   "id": "03a51f46",
   "metadata": {
    "_cell_guid": "b1076dfc-b9ad-4769-8c92-a6c4dae69d19",
    "_uuid": "8f2839f25d086af736a60e9eeb907d3b93b6e0e5",
    "execution": {
     "iopub.execute_input": "2025-03-22T20:25:24.534033Z",
     "iopub.status.busy": "2025-03-22T20:25:24.533667Z",
     "iopub.status.idle": "2025-03-22T20:25:25.429543Z",
     "shell.execute_reply": "2025-03-22T20:25:25.428247Z"
    },
    "papermill": {
     "duration": 0.910682,
     "end_time": "2025-03-22T20:25:25.431201",
     "exception": false,
     "start_time": "2025-03-22T20:25:24.520519",
     "status": "completed"
    },
    "tags": []
   },
   "outputs": [
    {
     "name": "stdout",
     "output_type": "stream",
     "text": [
      "/kaggle/input/imdb-review-dataset/imdb_master.csv\n"
     ]
    }
   ],
   "source": [
    "import warnings\n",
    "warnings.filterwarnings(\"ignore\")\n",
    "from tqdm import tqdm\n",
    "\n",
    "import numpy as np # linear algebra\n",
    "import pandas as pd # data processing, CSV file I/O (e.g. pd.read_csv)\n",
    "\n",
    "import matplotlib.pyplot as plt\n",
    "\n",
    "\n",
    "\n",
    "import os\n",
    "for dirname, _, filenames in os.walk('/kaggle/input'):\n",
    "    for filename in filenames:\n",
    "        print(os.path.join(dirname, filename))\n"
   ]
  },
  {
   "cell_type": "code",
   "execution_count": 2,
   "id": "29c90100",
   "metadata": {
    "execution": {
     "iopub.execute_input": "2025-03-22T20:25:25.445014Z",
     "iopub.status.busy": "2025-03-22T20:25:25.444466Z",
     "iopub.status.idle": "2025-03-22T20:25:28.567921Z",
     "shell.execute_reply": "2025-03-22T20:25:28.567008Z"
    },
    "papermill": {
     "duration": 3.132137,
     "end_time": "2025-03-22T20:25:28.569775",
     "exception": false,
     "start_time": "2025-03-22T20:25:25.437638",
     "status": "completed"
    },
    "tags": []
   },
   "outputs": [],
   "source": [
    "data=pd.read_csv(\"../input/imdb-review-dataset/imdb_master.csv\",encoding=\"ISO-8859-1\")\n",
    "data=data.sample(frac=1,random_state=42) #shuffling our data"
   ]
  },
  {
   "cell_type": "code",
   "execution_count": 3,
   "id": "287ff830",
   "metadata": {
    "execution": {
     "iopub.execute_input": "2025-03-22T20:25:28.582633Z",
     "iopub.status.busy": "2025-03-22T20:25:28.582296Z",
     "iopub.status.idle": "2025-03-22T20:25:28.607034Z",
     "shell.execute_reply": "2025-03-22T20:25:28.605988Z"
    },
    "papermill": {
     "duration": 0.032878,
     "end_time": "2025-03-22T20:25:28.608637",
     "exception": false,
     "start_time": "2025-03-22T20:25:28.575759",
     "status": "completed"
    },
    "tags": []
   },
   "outputs": [
    {
     "data": {
      "text/html": [
       "<div>\n",
       "<style scoped>\n",
       "    .dataframe tbody tr th:only-of-type {\n",
       "        vertical-align: middle;\n",
       "    }\n",
       "\n",
       "    .dataframe tbody tr th {\n",
       "        vertical-align: top;\n",
       "    }\n",
       "\n",
       "    .dataframe thead th {\n",
       "        text-align: right;\n",
       "    }\n",
       "</style>\n",
       "<table border=\"1\" class=\"dataframe\">\n",
       "  <thead>\n",
       "    <tr style=\"text-align: right;\">\n",
       "      <th></th>\n",
       "      <th>Unnamed: 0</th>\n",
       "      <th>type</th>\n",
       "      <th>review</th>\n",
       "      <th>label</th>\n",
       "      <th>file</th>\n",
       "    </tr>\n",
       "  </thead>\n",
       "  <tbody>\n",
       "    <tr>\n",
       "      <th>75721</th>\n",
       "      <td>75721</td>\n",
       "      <td>train</td>\n",
       "      <td>CAVITE is an example of ultimate independent f...</td>\n",
       "      <td>unsup</td>\n",
       "      <td>3314_0.txt</td>\n",
       "    </tr>\n",
       "    <tr>\n",
       "      <th>80184</th>\n",
       "      <td>80184</td>\n",
       "      <td>train</td>\n",
       "      <td>Decades ago, a crate filled with weapons grade...</td>\n",
       "      <td>unsup</td>\n",
       "      <td>37167_0.txt</td>\n",
       "    </tr>\n",
       "    <tr>\n",
       "      <th>19864</th>\n",
       "      <td>19864</td>\n",
       "      <td>test</td>\n",
       "      <td>This is one creepy underrated Gem with chillin...</td>\n",
       "      <td>pos</td>\n",
       "      <td>5379_8.txt</td>\n",
       "    </tr>\n",
       "    <tr>\n",
       "      <th>76699</th>\n",
       "      <td>76699</td>\n",
       "      <td>train</td>\n",
       "      <td>Aside from the gross factual inaccuracies of t...</td>\n",
       "      <td>unsup</td>\n",
       "      <td>3402_0.txt</td>\n",
       "    </tr>\n",
       "    <tr>\n",
       "      <th>92991</th>\n",
       "      <td>92991</td>\n",
       "      <td>train</td>\n",
       "      <td>The special effects again are superb but this ...</td>\n",
       "      <td>unsup</td>\n",
       "      <td>48694_0.txt</td>\n",
       "    </tr>\n",
       "    <tr>\n",
       "      <th>76434</th>\n",
       "      <td>76434</td>\n",
       "      <td>train</td>\n",
       "      <td>i was pretty captivated by the story - i think...</td>\n",
       "      <td>unsup</td>\n",
       "      <td>33792_0.txt</td>\n",
       "    </tr>\n",
       "    <tr>\n",
       "      <th>84004</th>\n",
       "      <td>84004</td>\n",
       "      <td>train</td>\n",
       "      <td>Dr Dollitle 2 was a fairly good movie with a s...</td>\n",
       "      <td>unsup</td>\n",
       "      <td>40604_0.txt</td>\n",
       "    </tr>\n",
       "    <tr>\n",
       "      <th>80917</th>\n",
       "      <td>80917</td>\n",
       "      <td>train</td>\n",
       "      <td>Not a great film. But then it does not deserve...</td>\n",
       "      <td>unsup</td>\n",
       "      <td>37827_0.txt</td>\n",
       "    </tr>\n",
       "    <tr>\n",
       "      <th>60767</th>\n",
       "      <td>60767</td>\n",
       "      <td>train</td>\n",
       "      <td>In 1941, in the small town of Peyton Place, Mi...</td>\n",
       "      <td>unsup</td>\n",
       "      <td>19692_0.txt</td>\n",
       "    </tr>\n",
       "    <tr>\n",
       "      <th>50074</th>\n",
       "      <td>50074</td>\n",
       "      <td>train</td>\n",
       "      <td>If you like the Comic, you will like the film....</td>\n",
       "      <td>unsup</td>\n",
       "      <td>10067_0.txt</td>\n",
       "    </tr>\n",
       "    <tr>\n",
       "      <th>27701</th>\n",
       "      <td>27701</td>\n",
       "      <td>train</td>\n",
       "      <td>I would like to say that curiosity got the bes...</td>\n",
       "      <td>neg</td>\n",
       "      <td>12431_1.txt</td>\n",
       "    </tr>\n",
       "    <tr>\n",
       "      <th>42141</th>\n",
       "      <td>42141</td>\n",
       "      <td>train</td>\n",
       "      <td>EDDIE MURPHY DELIRIOUS is easily the funniest ...</td>\n",
       "      <td>pos</td>\n",
       "      <td>2928_10.txt</td>\n",
       "    </tr>\n",
       "    <tr>\n",
       "      <th>45080</th>\n",
       "      <td>45080</td>\n",
       "      <td>train</td>\n",
       "      <td>A MUST SEE! I saw WHIPPED at a press screening...</td>\n",
       "      <td>pos</td>\n",
       "      <td>5573_10.txt</td>\n",
       "    </tr>\n",
       "    <tr>\n",
       "      <th>16638</th>\n",
       "      <td>16638</td>\n",
       "      <td>test</td>\n",
       "      <td>Death Camp Opera: Right Here, Right Now!&lt;br /&gt;...</td>\n",
       "      <td>pos</td>\n",
       "      <td>2475_10.txt</td>\n",
       "    </tr>\n",
       "    <tr>\n",
       "      <th>20424</th>\n",
       "      <td>20424</td>\n",
       "      <td>test</td>\n",
       "      <td>This film tells the stories of several couples...</td>\n",
       "      <td>pos</td>\n",
       "      <td>5883_10.txt</td>\n",
       "    </tr>\n",
       "  </tbody>\n",
       "</table>\n",
       "</div>"
      ],
      "text/plain": [
       "       Unnamed: 0   type                                             review  \\\n",
       "75721       75721  train  CAVITE is an example of ultimate independent f...   \n",
       "80184       80184  train  Decades ago, a crate filled with weapons grade...   \n",
       "19864       19864   test  This is one creepy underrated Gem with chillin...   \n",
       "76699       76699  train  Aside from the gross factual inaccuracies of t...   \n",
       "92991       92991  train  The special effects again are superb but this ...   \n",
       "76434       76434  train  i was pretty captivated by the story - i think...   \n",
       "84004       84004  train  Dr Dollitle 2 was a fairly good movie with a s...   \n",
       "80917       80917  train  Not a great film. But then it does not deserve...   \n",
       "60767       60767  train  In 1941, in the small town of Peyton Place, Mi...   \n",
       "50074       50074  train  If you like the Comic, you will like the film....   \n",
       "27701       27701  train  I would like to say that curiosity got the bes...   \n",
       "42141       42141  train  EDDIE MURPHY DELIRIOUS is easily the funniest ...   \n",
       "45080       45080  train  A MUST SEE! I saw WHIPPED at a press screening...   \n",
       "16638       16638   test  Death Camp Opera: Right Here, Right Now!<br />...   \n",
       "20424       20424   test  This film tells the stories of several couples...   \n",
       "\n",
       "       label         file  \n",
       "75721  unsup   3314_0.txt  \n",
       "80184  unsup  37167_0.txt  \n",
       "19864    pos   5379_8.txt  \n",
       "76699  unsup   3402_0.txt  \n",
       "92991  unsup  48694_0.txt  \n",
       "76434  unsup  33792_0.txt  \n",
       "84004  unsup  40604_0.txt  \n",
       "80917  unsup  37827_0.txt  \n",
       "60767  unsup  19692_0.txt  \n",
       "50074  unsup  10067_0.txt  \n",
       "27701    neg  12431_1.txt  \n",
       "42141    pos  2928_10.txt  \n",
       "45080    pos  5573_10.txt  \n",
       "16638    pos  2475_10.txt  \n",
       "20424    pos  5883_10.txt  "
      ]
     },
     "execution_count": 3,
     "metadata": {},
     "output_type": "execute_result"
    }
   ],
   "source": [
    "data.head(15)"
   ]
  },
  {
   "cell_type": "code",
   "execution_count": 4,
   "id": "81f80c3b",
   "metadata": {
    "execution": {
     "iopub.execute_input": "2025-03-22T20:25:28.622499Z",
     "iopub.status.busy": "2025-03-22T20:25:28.622125Z",
     "iopub.status.idle": "2025-03-22T20:25:36.999973Z",
     "shell.execute_reply": "2025-03-22T20:25:36.998969Z"
    },
    "papermill": {
     "duration": 8.386462,
     "end_time": "2025-03-22T20:25:37.001496",
     "exception": false,
     "start_time": "2025-03-22T20:25:28.615034",
     "status": "completed"
    },
    "tags": []
   },
   "outputs": [
    {
     "name": "stderr",
     "output_type": "stream",
     "text": [
      "100%|██████████| 100000/100000 [00:08<00:00, 12451.68it/s]\n",
      "100%|██████████| 100000/100000 [00:00<00:00, 386078.26it/s]\n"
     ]
    },
    {
     "data": {
      "text/html": [
       "<div>\n",
       "<style scoped>\n",
       "    .dataframe tbody tr th:only-of-type {\n",
       "        vertical-align: middle;\n",
       "    }\n",
       "\n",
       "    .dataframe tbody tr th {\n",
       "        vertical-align: top;\n",
       "    }\n",
       "\n",
       "    .dataframe thead th {\n",
       "        text-align: right;\n",
       "    }\n",
       "</style>\n",
       "<table border=\"1\" class=\"dataframe\">\n",
       "  <thead>\n",
       "    <tr style=\"text-align: right;\">\n",
       "      <th></th>\n",
       "      <th>Unnamed: 0</th>\n",
       "      <th>type</th>\n",
       "      <th>review</th>\n",
       "      <th>label</th>\n",
       "      <th>file</th>\n",
       "    </tr>\n",
       "  </thead>\n",
       "  <tbody>\n",
       "    <tr>\n",
       "      <th>75721</th>\n",
       "      <td>75721</td>\n",
       "      <td>train</td>\n",
       "      <td>cavite is an example of ultimate independent f...</td>\n",
       "      <td>unsup</td>\n",
       "      <td>3314_0.txt</td>\n",
       "    </tr>\n",
       "    <tr>\n",
       "      <th>80184</th>\n",
       "      <td>80184</td>\n",
       "      <td>train</td>\n",
       "      <td>decades ago  a crate filled with weapons grade...</td>\n",
       "      <td>unsup</td>\n",
       "      <td>37167_0.txt</td>\n",
       "    </tr>\n",
       "    <tr>\n",
       "      <th>19864</th>\n",
       "      <td>19864</td>\n",
       "      <td>test</td>\n",
       "      <td>this is one creepy underrated gem with chillin...</td>\n",
       "      <td>pos</td>\n",
       "      <td>5379_8.txt</td>\n",
       "    </tr>\n",
       "    <tr>\n",
       "      <th>76699</th>\n",
       "      <td>76699</td>\n",
       "      <td>train</td>\n",
       "      <td>aside from the gross factual inaccuracies of t...</td>\n",
       "      <td>unsup</td>\n",
       "      <td>3402_0.txt</td>\n",
       "    </tr>\n",
       "    <tr>\n",
       "      <th>92991</th>\n",
       "      <td>92991</td>\n",
       "      <td>train</td>\n",
       "      <td>the special effects again are superb but this ...</td>\n",
       "      <td>unsup</td>\n",
       "      <td>48694_0.txt</td>\n",
       "    </tr>\n",
       "    <tr>\n",
       "      <th>76434</th>\n",
       "      <td>76434</td>\n",
       "      <td>train</td>\n",
       "      <td>i was pretty captivated by the story   i think...</td>\n",
       "      <td>unsup</td>\n",
       "      <td>33792_0.txt</td>\n",
       "    </tr>\n",
       "    <tr>\n",
       "      <th>84004</th>\n",
       "      <td>84004</td>\n",
       "      <td>train</td>\n",
       "      <td>dr dollitle   was a fairly good movie with a s...</td>\n",
       "      <td>unsup</td>\n",
       "      <td>40604_0.txt</td>\n",
       "    </tr>\n",
       "    <tr>\n",
       "      <th>80917</th>\n",
       "      <td>80917</td>\n",
       "      <td>train</td>\n",
       "      <td>not a great film  but then it does not deserve...</td>\n",
       "      <td>unsup</td>\n",
       "      <td>37827_0.txt</td>\n",
       "    </tr>\n",
       "    <tr>\n",
       "      <th>60767</th>\n",
       "      <td>60767</td>\n",
       "      <td>train</td>\n",
       "      <td>in       in the small town of peyton place  mi...</td>\n",
       "      <td>unsup</td>\n",
       "      <td>19692_0.txt</td>\n",
       "    </tr>\n",
       "    <tr>\n",
       "      <th>50074</th>\n",
       "      <td>50074</td>\n",
       "      <td>train</td>\n",
       "      <td>if you like the comic  you will like the film ...</td>\n",
       "      <td>unsup</td>\n",
       "      <td>10067_0.txt</td>\n",
       "    </tr>\n",
       "  </tbody>\n",
       "</table>\n",
       "</div>"
      ],
      "text/plain": [
       "       Unnamed: 0   type                                             review  \\\n",
       "75721       75721  train  cavite is an example of ultimate independent f...   \n",
       "80184       80184  train  decades ago  a crate filled with weapons grade...   \n",
       "19864       19864   test  this is one creepy underrated gem with chillin...   \n",
       "76699       76699  train  aside from the gross factual inaccuracies of t...   \n",
       "92991       92991  train  the special effects again are superb but this ...   \n",
       "76434       76434  train  i was pretty captivated by the story   i think...   \n",
       "84004       84004  train  dr dollitle   was a fairly good movie with a s...   \n",
       "80917       80917  train  not a great film  but then it does not deserve...   \n",
       "60767       60767  train  in       in the small town of peyton place  mi...   \n",
       "50074       50074  train  if you like the comic  you will like the film ...   \n",
       "\n",
       "       label         file  \n",
       "75721  unsup   3314_0.txt  \n",
       "80184  unsup  37167_0.txt  \n",
       "19864    pos   5379_8.txt  \n",
       "76699  unsup   3402_0.txt  \n",
       "92991  unsup  48694_0.txt  \n",
       "76434  unsup  33792_0.txt  \n",
       "84004  unsup  40604_0.txt  \n",
       "80917  unsup  37827_0.txt  \n",
       "60767  unsup  19692_0.txt  \n",
       "50074  unsup  10067_0.txt  "
      ]
     },
     "execution_count": 4,
     "metadata": {},
     "output_type": "execute_result"
    }
   ],
   "source": [
    "from tqdm import tqdm\n",
    "import re\n",
    "data[\"review\"]=[re.sub(\"[^a-zA-Z]\",\" \",each) for each in tqdm(data.review, position=0)]#cleaning from symbols and numbers\n",
    "data.review=[each.lower() for each in tqdm(data.review,position=0)]#low cased every text in data\n",
    "data.head(10)"
   ]
  },
  {
   "cell_type": "code",
   "execution_count": 5,
   "id": "3c68b24e",
   "metadata": {
    "execution": {
     "iopub.execute_input": "2025-03-22T20:25:37.024543Z",
     "iopub.status.busy": "2025-03-22T20:25:37.024194Z",
     "iopub.status.idle": "2025-03-22T20:25:37.121857Z",
     "shell.execute_reply": "2025-03-22T20:25:37.120710Z"
    },
    "papermill": {
     "duration": 0.111158,
     "end_time": "2025-03-22T20:25:37.123755",
     "exception": false,
     "start_time": "2025-03-22T20:25:37.012597",
     "status": "completed"
    },
    "tags": []
   },
   "outputs": [],
   "source": [
    "test=data[data.type==\"test\"]\n",
    "test.drop([\"type\",\"Unnamed: 0\",\"file\"],axis=1,inplace=True)\n",
    "train=data[data.type==\"train\"]\n",
    "train.drop([\"type\",\"Unnamed: 0\",\"file\"],axis=1,inplace=True)\n",
    "train=train[train[\"label\"].str.contains(\"unsup\") == False]#drop unsup ones\n",
    "train.label=[0 if each==\"neg\" else 1 for each in train[\"label\"]]\n",
    "test.label=[0 if each==\"neg\" else 1 for each in test[\"label\"]]\n",
    "train=train.reset_index(drop=True)\n",
    "test=test.reset_index(drop=True)"
   ]
  },
  {
   "cell_type": "code",
   "execution_count": 6,
   "id": "273f5483",
   "metadata": {
    "execution": {
     "iopub.execute_input": "2025-03-22T20:25:37.146730Z",
     "iopub.status.busy": "2025-03-22T20:25:37.146310Z",
     "iopub.status.idle": "2025-03-22T20:25:37.155017Z",
     "shell.execute_reply": "2025-03-22T20:25:37.154053Z"
    },
    "papermill": {
     "duration": 0.021712,
     "end_time": "2025-03-22T20:25:37.156372",
     "exception": false,
     "start_time": "2025-03-22T20:25:37.134660",
     "status": "completed"
    },
    "tags": []
   },
   "outputs": [
    {
     "data": {
      "text/html": [
       "<div>\n",
       "<style scoped>\n",
       "    .dataframe tbody tr th:only-of-type {\n",
       "        vertical-align: middle;\n",
       "    }\n",
       "\n",
       "    .dataframe tbody tr th {\n",
       "        vertical-align: top;\n",
       "    }\n",
       "\n",
       "    .dataframe thead th {\n",
       "        text-align: right;\n",
       "    }\n",
       "</style>\n",
       "<table border=\"1\" class=\"dataframe\">\n",
       "  <thead>\n",
       "    <tr style=\"text-align: right;\">\n",
       "      <th></th>\n",
       "      <th>review</th>\n",
       "      <th>label</th>\n",
       "    </tr>\n",
       "  </thead>\n",
       "  <tbody>\n",
       "    <tr>\n",
       "      <th>0</th>\n",
       "      <td>this is one creepy underrated gem with chillin...</td>\n",
       "      <td>1</td>\n",
       "    </tr>\n",
       "    <tr>\n",
       "      <th>1</th>\n",
       "      <td>death camp opera  right here  right now  br   ...</td>\n",
       "      <td>1</td>\n",
       "    </tr>\n",
       "    <tr>\n",
       "      <th>2</th>\n",
       "      <td>this film tells the stories of several couples...</td>\n",
       "      <td>1</td>\n",
       "    </tr>\n",
       "    <tr>\n",
       "      <th>3</th>\n",
       "      <td>imagine yourself trapped inside a museum of th...</td>\n",
       "      <td>0</td>\n",
       "    </tr>\n",
       "    <tr>\n",
       "      <th>4</th>\n",
       "      <td>i just caught this on showtime   ewwwwwww  not...</td>\n",
       "      <td>0</td>\n",
       "    </tr>\n",
       "    <tr>\n",
       "      <th>5</th>\n",
       "      <td>i lay the blame for the comebacks on anyone wh...</td>\n",
       "      <td>0</td>\n",
       "    </tr>\n",
       "    <tr>\n",
       "      <th>6</th>\n",
       "      <td>who do you dream of  hoot gibson     howdy do...</td>\n",
       "      <td>1</td>\n",
       "    </tr>\n",
       "    <tr>\n",
       "      <th>7</th>\n",
       "      <td>this was a very good ppv  but like wrestlemani...</td>\n",
       "      <td>1</td>\n",
       "    </tr>\n",
       "    <tr>\n",
       "      <th>8</th>\n",
       "      <td>we really liked this movie  it wasn t trying t...</td>\n",
       "      <td>1</td>\n",
       "    </tr>\n",
       "    <tr>\n",
       "      <th>9</th>\n",
       "      <td>rachel and chuck yoman  valerie harper  gerald...</td>\n",
       "      <td>1</td>\n",
       "    </tr>\n",
       "    <tr>\n",
       "      <th>10</th>\n",
       "      <td>another winner from that   s     s era that i ...</td>\n",
       "      <td>0</td>\n",
       "    </tr>\n",
       "    <tr>\n",
       "      <th>11</th>\n",
       "      <td>after reading previews for this movie i though...</td>\n",
       "      <td>1</td>\n",
       "    </tr>\n",
       "    <tr>\n",
       "      <th>12</th>\n",
       "      <td>after stabbing a retarded boy  the fifteen yea...</td>\n",
       "      <td>1</td>\n",
       "    </tr>\n",
       "    <tr>\n",
       "      <th>13</th>\n",
       "      <td>the frustrating thing about a movie like this ...</td>\n",
       "      <td>0</td>\n",
       "    </tr>\n",
       "    <tr>\n",
       "      <th>14</th>\n",
       "      <td>this horror movie starts out promisingly enoug...</td>\n",
       "      <td>0</td>\n",
       "    </tr>\n",
       "  </tbody>\n",
       "</table>\n",
       "</div>"
      ],
      "text/plain": [
       "                                               review  label\n",
       "0   this is one creepy underrated gem with chillin...      1\n",
       "1   death camp opera  right here  right now  br   ...      1\n",
       "2   this film tells the stories of several couples...      1\n",
       "3   imagine yourself trapped inside a museum of th...      0\n",
       "4   i just caught this on showtime   ewwwwwww  not...      0\n",
       "5   i lay the blame for the comebacks on anyone wh...      0\n",
       "6    who do you dream of  hoot gibson     howdy do...      1\n",
       "7   this was a very good ppv  but like wrestlemani...      1\n",
       "8   we really liked this movie  it wasn t trying t...      1\n",
       "9   rachel and chuck yoman  valerie harper  gerald...      1\n",
       "10  another winner from that   s     s era that i ...      0\n",
       "11  after reading previews for this movie i though...      1\n",
       "12  after stabbing a retarded boy  the fifteen yea...      1\n",
       "13  the frustrating thing about a movie like this ...      0\n",
       "14  this horror movie starts out promisingly enoug...      0"
      ]
     },
     "execution_count": 6,
     "metadata": {},
     "output_type": "execute_result"
    }
   ],
   "source": [
    "test.head(15)"
   ]
  },
  {
   "cell_type": "code",
   "execution_count": 7,
   "id": "afa3fc09",
   "metadata": {
    "execution": {
     "iopub.execute_input": "2025-03-22T20:25:37.180098Z",
     "iopub.status.busy": "2025-03-22T20:25:37.179736Z",
     "iopub.status.idle": "2025-03-22T20:25:37.185166Z",
     "shell.execute_reply": "2025-03-22T20:25:37.184133Z"
    },
    "papermill": {
     "duration": 0.018979,
     "end_time": "2025-03-22T20:25:37.186716",
     "exception": false,
     "start_time": "2025-03-22T20:25:37.167737",
     "status": "completed"
    },
    "tags": []
   },
   "outputs": [],
   "source": [
    "#we gonna use this examples for check one by one at the end of our code\n",
    "positive_example=test.review[0]\n",
    "positive_example2=test.review[1]\n",
    "positive_example3=test.review[2]\n",
    "positive_example4=test.review[6]\n",
    "\n",
    "negative_example=test.review[3]\n",
    "negative_example2=test.review[4]\n",
    "negative_example3=test.review[5]\n",
    "negative_example4=test.review[14]"
   ]
  },
  {
   "cell_type": "code",
   "execution_count": 8,
   "id": "2890e805",
   "metadata": {
    "execution": {
     "iopub.execute_input": "2025-03-22T20:25:37.210396Z",
     "iopub.status.busy": "2025-03-22T20:25:37.210078Z",
     "iopub.status.idle": "2025-03-22T20:25:37.217843Z",
     "shell.execute_reply": "2025-03-22T20:25:37.216880Z"
    },
    "papermill": {
     "duration": 0.021447,
     "end_time": "2025-03-22T20:25:37.219526",
     "exception": false,
     "start_time": "2025-03-22T20:25:37.198079",
     "status": "completed"
    },
    "tags": []
   },
   "outputs": [
    {
     "data": {
      "text/html": [
       "<div>\n",
       "<style scoped>\n",
       "    .dataframe tbody tr th:only-of-type {\n",
       "        vertical-align: middle;\n",
       "    }\n",
       "\n",
       "    .dataframe tbody tr th {\n",
       "        vertical-align: top;\n",
       "    }\n",
       "\n",
       "    .dataframe thead th {\n",
       "        text-align: right;\n",
       "    }\n",
       "</style>\n",
       "<table border=\"1\" class=\"dataframe\">\n",
       "  <thead>\n",
       "    <tr style=\"text-align: right;\">\n",
       "      <th></th>\n",
       "      <th>review</th>\n",
       "      <th>label</th>\n",
       "    </tr>\n",
       "  </thead>\n",
       "  <tbody>\n",
       "    <tr>\n",
       "      <th>24995</th>\n",
       "      <td>the infamous ed wood  classic  plan   from out...</td>\n",
       "      <td>0</td>\n",
       "    </tr>\n",
       "    <tr>\n",
       "      <th>24996</th>\n",
       "      <td>first off  i would like to point out that the ...</td>\n",
       "      <td>0</td>\n",
       "    </tr>\n",
       "    <tr>\n",
       "      <th>24997</th>\n",
       "      <td>this was my favourite film as a child  and i h...</td>\n",
       "      <td>1</td>\n",
       "    </tr>\n",
       "    <tr>\n",
       "      <th>24998</th>\n",
       "      <td>this movie is why i found this website  i coul...</td>\n",
       "      <td>1</td>\n",
       "    </tr>\n",
       "    <tr>\n",
       "      <th>24999</th>\n",
       "      <td>this a fascinatingly awful movie  it make so l...</td>\n",
       "      <td>0</td>\n",
       "    </tr>\n",
       "  </tbody>\n",
       "</table>\n",
       "</div>"
      ],
      "text/plain": [
       "                                                  review  label\n",
       "24995  the infamous ed wood  classic  plan   from out...      0\n",
       "24996  first off  i would like to point out that the ...      0\n",
       "24997  this was my favourite film as a child  and i h...      1\n",
       "24998  this movie is why i found this website  i coul...      1\n",
       "24999  this a fascinatingly awful movie  it make so l...      0"
      ]
     },
     "execution_count": 8,
     "metadata": {},
     "output_type": "execute_result"
    }
   ],
   "source": [
    "train.tail()"
   ]
  },
  {
   "cell_type": "code",
   "execution_count": 9,
   "id": "ed0d3cbf",
   "metadata": {
    "execution": {
     "iopub.execute_input": "2025-03-22T20:25:37.245151Z",
     "iopub.status.busy": "2025-03-22T20:25:37.244823Z",
     "iopub.status.idle": "2025-03-22T20:25:37.249009Z",
     "shell.execute_reply": "2025-03-22T20:25:37.248153Z"
    },
    "papermill": {
     "duration": 0.019511,
     "end_time": "2025-03-22T20:25:37.250528",
     "exception": false,
     "start_time": "2025-03-22T20:25:37.231017",
     "status": "completed"
    },
    "tags": []
   },
   "outputs": [],
   "source": [
    "x_train,y_train,x_test,y_test=train.review,train.label,test.review,test.label"
   ]
  },
  {
   "cell_type": "code",
   "execution_count": 10,
   "id": "dbff3909",
   "metadata": {
    "execution": {
     "iopub.execute_input": "2025-03-22T20:25:37.274101Z",
     "iopub.status.busy": "2025-03-22T20:25:37.273787Z",
     "iopub.status.idle": "2025-03-22T20:25:53.238412Z",
     "shell.execute_reply": "2025-03-22T20:25:53.237503Z"
    },
    "papermill": {
     "duration": 15.978418,
     "end_time": "2025-03-22T20:25:53.240304",
     "exception": false,
     "start_time": "2025-03-22T20:25:37.261886",
     "status": "completed"
    },
    "tags": []
   },
   "outputs": [],
   "source": [
    "\n",
    "from keras.utils import pad_sequences\n",
    "from keras.models import Sequential\n",
    "from keras.layers import LSTM, Bidirectional, Dense, Embedding, TextVectorization,Dropout\n",
    "vocab_size = 5000\n",
    "encoder = TextVectorization(\n",
    "    max_tokens=vocab_size)\n",
    "encoder.adapt(x_train)"
   ]
  },
  {
   "cell_type": "code",
   "execution_count": 11,
   "id": "affbb1cd",
   "metadata": {
    "execution": {
     "iopub.execute_input": "2025-03-22T20:25:53.264876Z",
     "iopub.status.busy": "2025-03-22T20:25:53.264516Z",
     "iopub.status.idle": "2025-03-22T20:25:53.289190Z",
     "shell.execute_reply": "2025-03-22T20:25:53.288211Z"
    },
    "papermill": {
     "duration": 0.039011,
     "end_time": "2025-03-22T20:25:53.290846",
     "exception": false,
     "start_time": "2025-03-22T20:25:53.251835",
     "status": "completed"
    },
    "tags": []
   },
   "outputs": [
    {
     "data": {
      "text/plain": [
       "array(['', '[UNK]', 'the', 'and', 'a', 'of', 'to', 'is', 'br', 'it', 'in',\n",
       "       'i', 'this', 'that', 's', 'was', 'as', 'for', 'with', 'movie',\n",
       "       'but', 'film', 't', 'you', 'on', 'not', 'he', 'are', 'his', 'have',\n",
       "       'be', 'one', 'all', 'at', 'they', 'by', 'an', 'who', 'so', 'from',\n",
       "       'like', 'there', 'her', 'or', 'just', 'about', 'out', 'if', 'has',\n",
       "       'what'], dtype='<U16')"
      ]
     },
     "execution_count": 11,
     "metadata": {},
     "output_type": "execute_result"
    }
   ],
   "source": [
    "vocab = np.array(encoder.get_vocabulary())\n",
    "vocab[:50]"
   ]
  },
  {
   "cell_type": "code",
   "execution_count": 12,
   "id": "9f25037b",
   "metadata": {
    "execution": {
     "iopub.execute_input": "2025-03-22T20:25:53.314524Z",
     "iopub.status.busy": "2025-03-22T20:25:53.314196Z",
     "iopub.status.idle": "2025-03-22T20:25:53.318039Z",
     "shell.execute_reply": "2025-03-22T20:25:53.317155Z"
    },
    "papermill": {
     "duration": 0.017517,
     "end_time": "2025-03-22T20:25:53.319596",
     "exception": false,
     "start_time": "2025-03-22T20:25:53.302079",
     "status": "completed"
    },
    "tags": []
   },
   "outputs": [],
   "source": [
    "delist=range(1,19) #delisting  '[UNK]', 'the', 'and', 'a', 'of', 'to', 'is', 'br'"
   ]
  },
  {
   "cell_type": "code",
   "execution_count": 13,
   "id": "e3f23032",
   "metadata": {
    "execution": {
     "iopub.execute_input": "2025-03-22T20:25:53.343462Z",
     "iopub.status.busy": "2025-03-22T20:25:53.343123Z",
     "iopub.status.idle": "2025-03-22T20:25:53.347020Z",
     "shell.execute_reply": "2025-03-22T20:25:53.346127Z"
    },
    "papermill": {
     "duration": 0.017589,
     "end_time": "2025-03-22T20:25:53.348473",
     "exception": false,
     "start_time": "2025-03-22T20:25:53.330884",
     "status": "completed"
    },
    "tags": []
   },
   "outputs": [],
   "source": [
    "example=\"problem film thought pretty good actual lapd crime scene video disturbed wonder lion gate really thought general viewing audience would want see people brutally beaten death blood place sorry lion gate incredibly bad idea br br getting back film cast excellent especially val kilmer late john holmes john holmes sleaze mistreats woman life lisa kudrow wife kate bosworth girlfriend hopelessly deep drug connection eddie nash eric bogosian creates spiral resulted infamous wonderland murder exactly much holmes involved murder may never know entire truth story nash still alive free man film pretty good job nonetheless\""
   ]
  },
  {
   "cell_type": "code",
   "execution_count": 14,
   "id": "afcac0d7",
   "metadata": {
    "execution": {
     "iopub.execute_input": "2025-03-22T20:25:53.372392Z",
     "iopub.status.busy": "2025-03-22T20:25:53.372084Z",
     "iopub.status.idle": "2025-03-22T20:25:53.399794Z",
     "shell.execute_reply": "2025-03-22T20:25:53.398813Z"
    },
    "papermill": {
     "duration": 0.041372,
     "end_time": "2025-03-22T20:25:53.401376",
     "exception": false,
     "start_time": "2025-03-22T20:25:53.360004",
     "status": "completed"
    },
    "tags": []
   },
   "outputs": [
    {
     "data": {
      "text/plain": [
       "array([ 436,   21,  196,  184,   51,  767,    1,  809,  135,  367, 4007,\n",
       "        584, 2871,    1,   66,  196,  795,  813,  301,   62,  182,   67,\n",
       "         79, 4646, 3580,  334,  524,  270,  789, 2871,    1,  947,   77,\n",
       "        323,    8,    8,  391,  145,   21,  178,  320,  258,    1,    1,\n",
       "        514,  298, 2902,  298, 2902,    1,    1,  241,  111, 2620,    1,\n",
       "        312, 1752,    1,  932,    1,  909, 1378, 2012, 1703,    1, 1943,\n",
       "          1, 2099,    1,    1, 3127,    1,  570,  607,   75, 2902,  563,\n",
       "        570,  200,  115,  123,  433,  859,   64,    1,  132, 1213,  861,\n",
       "        126,   21,  184,   51,  290, 2892])"
      ]
     },
     "execution_count": 14,
     "metadata": {},
     "output_type": "execute_result"
    }
   ],
   "source": [
    "encoded_example = encoder(example).numpy()\n",
    "encoded_example"
   ]
  },
  {
   "cell_type": "code",
   "execution_count": 15,
   "id": "e5e52d82",
   "metadata": {
    "execution": {
     "iopub.execute_input": "2025-03-22T20:25:53.425271Z",
     "iopub.status.busy": "2025-03-22T20:25:53.424935Z",
     "iopub.status.idle": "2025-03-22T20:25:53.442993Z",
     "shell.execute_reply": "2025-03-22T20:25:53.441746Z"
    },
    "papermill": {
     "duration": 0.031931,
     "end_time": "2025-03-22T20:25:53.444800",
     "exception": false,
     "start_time": "2025-03-22T20:25:53.412869",
     "status": "completed"
    },
    "tags": []
   },
   "outputs": [
    {
     "name": "stdout",
     "output_type": "stream",
     "text": [
      "problem film thought pretty good actual [UNK] crime scene video disturbed wonder lion [UNK] really thought general viewing audience would want see people brutally beaten death blood place sorry lion [UNK] incredibly bad idea br br getting back film cast excellent especially [UNK] [UNK] late john holmes john holmes [UNK] [UNK] woman life lisa [UNK] wife kate [UNK] girlfriend [UNK] deep drug connection eddie [UNK] eric [UNK] creates [UNK] [UNK] infamous [UNK] murder exactly much holmes involved murder may never know entire truth story [UNK] still alive free man film pretty good job nonetheless "
     ]
    }
   ],
   "source": [
    "for n in range(0,len(encoded_example)):\n",
    "    print(\"\".join(vocab[encoded_example[n]]),end=\" \")"
   ]
  },
  {
   "cell_type": "code",
   "execution_count": 16,
   "id": "7b045426",
   "metadata": {
    "execution": {
     "iopub.execute_input": "2025-03-22T20:25:53.468485Z",
     "iopub.status.busy": "2025-03-22T20:25:53.468142Z",
     "iopub.status.idle": "2025-03-22T20:30:10.992967Z",
     "shell.execute_reply": "2025-03-22T20:30:10.991798Z"
    },
    "papermill": {
     "duration": 257.538802,
     "end_time": "2025-03-22T20:30:10.994991",
     "exception": false,
     "start_time": "2025-03-22T20:25:53.456189",
     "status": "completed"
    },
    "tags": []
   },
   "outputs": [
    {
     "name": "stderr",
     "output_type": "stream",
     "text": [
      "100%|██████████| 25000/25000 [02:08<00:00, 193.97it/s]\n",
      "100%|██████████| 25000/25000 [02:08<00:00, 194.36it/s]\n"
     ]
    }
   ],
   "source": [
    "#converting our sentences to number lists\n",
    "\n",
    "number_of_train=[np.setdiff1d(encoder(each).numpy(),[delist]) for each in tqdm(x_train,position=0)]\n",
    "number_of_test=[np.setdiff1d(encoder(each).numpy(),[delist]) for each in tqdm(x_test,position=0)]"
   ]
  },
  {
   "cell_type": "code",
   "execution_count": 17,
   "id": "02a6f141",
   "metadata": {
    "execution": {
     "iopub.execute_input": "2025-03-22T20:30:11.334040Z",
     "iopub.status.busy": "2025-03-22T20:30:11.333539Z",
     "iopub.status.idle": "2025-03-22T20:30:11.341408Z",
     "shell.execute_reply": "2025-03-22T20:30:11.340323Z"
    },
    "papermill": {
     "duration": 0.170851,
     "end_time": "2025-03-22T20:30:11.342955",
     "exception": false,
     "start_time": "2025-03-22T20:30:11.172104",
     "status": "completed"
    },
    "tags": []
   },
   "outputs": [
    {
     "data": {
      "text/plain": [
       "array([  19,   20,   23,   24,   25,   26,   27,   28,   29,   30,   31,\n",
       "         32,   33,   34,   36,   37,   38,   40,   41,   44,   45,   47,\n",
       "         52,   53,   57,   59,   60,   61,   62,   65,   66,   70,   72,\n",
       "         73,   77,   80,   81,   82,   83,   87,   91,   94,   97,   98,\n",
       "        100,  101,  109,  111,  113,  118,  120,  121,  123,  127,  130,\n",
       "        133,  134,  136,  144,  147,  148,  155,  161,  165,  166,  168,\n",
       "        172,  179,  181,  189,  203,  218,  223,  230,  232,  252,  261,\n",
       "        267,  275,  278,  304,  305,  307,  335,  339,  341,  362,  370,\n",
       "        375,  379,  381,  400,  433,  457,  458,  459,  495,  505,  512,\n",
       "        519,  523,  531,  537,  573,  576,  580,  581,  615,  629,  672,\n",
       "        808,  860,  873,  884,  885,  933,  965, 1047, 1065, 1070, 1097,\n",
       "       1116, 1122, 1128, 1188, 1272, 1438, 1447, 1454, 1492, 1608, 1631,\n",
       "       1635, 1655, 1669, 1728, 1765, 1876, 1897, 1951, 2056, 2075, 2088,\n",
       "       2206, 2241, 2282, 2304, 2350, 2464, 2466, 2489, 2755, 2776, 2823,\n",
       "       2900, 3080, 3123, 3200, 3249, 3349, 3403, 3550, 3572, 3797, 3834,\n",
       "       3950, 4169, 4195, 4410, 4662, 4930])"
      ]
     },
     "execution_count": 17,
     "metadata": {},
     "output_type": "execute_result"
    }
   ],
   "source": [
    "number_of_train[0]"
   ]
  },
  {
   "cell_type": "code",
   "execution_count": 18,
   "id": "01dbfd4c",
   "metadata": {
    "execution": {
     "iopub.execute_input": "2025-03-22T20:30:11.657454Z",
     "iopub.status.busy": "2025-03-22T20:30:11.657136Z",
     "iopub.status.idle": "2025-03-22T20:30:11.825353Z",
     "shell.execute_reply": "2025-03-22T20:30:11.824317Z"
    },
    "papermill": {
     "duration": 0.325762,
     "end_time": "2025-03-22T20:30:11.827215",
     "exception": false,
     "start_time": "2025-03-22T20:30:11.501453",
     "status": "completed"
    },
    "tags": []
   },
   "outputs": [],
   "source": [
    "#seting each sentence to 150 words for our rnn\n",
    "maxlen=150\n",
    "number_of_train=pad_sequences(number_of_train, maxlen=maxlen)\n",
    "number_of_test=pad_sequences(number_of_test,maxlen=maxlen)"
   ]
  },
  {
   "cell_type": "code",
   "execution_count": 19,
   "id": "4c8fc3d1",
   "metadata": {
    "execution": {
     "iopub.execute_input": "2025-03-22T20:30:12.112201Z",
     "iopub.status.busy": "2025-03-22T20:30:12.111860Z",
     "iopub.status.idle": "2025-03-22T20:30:12.118189Z",
     "shell.execute_reply": "2025-03-22T20:30:12.117163Z"
    },
    "papermill": {
     "duration": 0.151558,
     "end_time": "2025-03-22T20:30:12.119829",
     "exception": false,
     "start_time": "2025-03-22T20:30:11.968271",
     "status": "completed"
    },
    "tags": []
   },
   "outputs": [
    {
     "data": {
      "text/plain": [
       "array([  47,   52,   53,   57,   59,   60,   61,   62,   65,   66,   70,\n",
       "         72,   73,   77,   80,   81,   82,   83,   87,   91,   94,   97,\n",
       "         98,  100,  101,  109,  111,  113,  118,  120,  121,  123,  127,\n",
       "        130,  133,  134,  136,  144,  147,  148,  155,  161,  165,  166,\n",
       "        168,  172,  179,  181,  189,  203,  218,  223,  230,  232,  252,\n",
       "        261,  267,  275,  278,  304,  305,  307,  335,  339,  341,  362,\n",
       "        370,  375,  379,  381,  400,  433,  457,  458,  459,  495,  505,\n",
       "        512,  519,  523,  531,  537,  573,  576,  580,  581,  615,  629,\n",
       "        672,  808,  860,  873,  884,  885,  933,  965, 1047, 1065, 1070,\n",
       "       1097, 1116, 1122, 1128, 1188, 1272, 1438, 1447, 1454, 1492, 1608,\n",
       "       1631, 1635, 1655, 1669, 1728, 1765, 1876, 1897, 1951, 2056, 2075,\n",
       "       2088, 2206, 2241, 2282, 2304, 2350, 2464, 2466, 2489, 2755, 2776,\n",
       "       2823, 2900, 3080, 3123, 3200, 3249, 3349, 3403, 3550, 3572, 3797,\n",
       "       3834, 3950, 4169, 4195, 4410, 4662, 4930], dtype=int32)"
      ]
     },
     "execution_count": 19,
     "metadata": {},
     "output_type": "execute_result"
    }
   ],
   "source": [
    "number_of_train[0]"
   ]
  },
  {
   "cell_type": "code",
   "execution_count": 20,
   "id": "9f0c9c50",
   "metadata": {
    "execution": {
     "iopub.execute_input": "2025-03-22T20:30:12.401445Z",
     "iopub.status.busy": "2025-03-22T20:30:12.401130Z",
     "iopub.status.idle": "2025-03-22T20:30:12.420171Z",
     "shell.execute_reply": "2025-03-22T20:30:12.419048Z"
    },
    "papermill": {
     "duration": 0.161555,
     "end_time": "2025-03-22T20:30:12.422802",
     "exception": false,
     "start_time": "2025-03-22T20:30:12.261247",
     "status": "completed"
    },
    "tags": []
   },
   "outputs": [],
   "source": [
    "num_words=len(encoder.get_vocabulary())"
   ]
  },
  {
   "cell_type": "code",
   "execution_count": 21,
   "id": "8b11931a",
   "metadata": {
    "execution": {
     "iopub.execute_input": "2025-03-22T20:30:12.771194Z",
     "iopub.status.busy": "2025-03-22T20:30:12.770852Z",
     "iopub.status.idle": "2025-03-22T20:30:12.798079Z",
     "shell.execute_reply": "2025-03-22T20:30:12.797236Z"
    },
    "papermill": {
     "duration": 0.227325,
     "end_time": "2025-03-22T20:30:12.799767",
     "exception": false,
     "start_time": "2025-03-22T20:30:12.572442",
     "status": "completed"
    },
    "tags": []
   },
   "outputs": [],
   "source": [
    "#a simple RNN\n",
    "model = Sequential([\n",
    "    \n",
    "    Embedding(num_words,32,mask_zero=True),\n",
    "    Bidirectional(LSTM(16)),\n",
    "    Dense(32, activation='relu'),\n",
    "    Dense(1)\n",
    "])"
   ]
  },
  {
   "cell_type": "code",
   "execution_count": 22,
   "id": "cf70e990",
   "metadata": {
    "execution": {
     "iopub.execute_input": "2025-03-22T20:30:13.080808Z",
     "iopub.status.busy": "2025-03-22T20:30:13.080408Z",
     "iopub.status.idle": "2025-03-22T20:30:13.095841Z",
     "shell.execute_reply": "2025-03-22T20:30:13.094919Z"
    },
    "papermill": {
     "duration": 0.158999,
     "end_time": "2025-03-22T20:30:13.097253",
     "exception": false,
     "start_time": "2025-03-22T20:30:12.938254",
     "status": "completed"
    },
    "tags": []
   },
   "outputs": [
    {
     "data": {
      "text/html": [
       "<pre style=\"white-space:pre;overflow-x:auto;line-height:normal;font-family:Menlo,'DejaVu Sans Mono',consolas,'Courier New',monospace\"><span style=\"font-weight: bold\">Model: \"sequential\"</span>\n",
       "</pre>\n"
      ],
      "text/plain": [
       "\u001b[1mModel: \"sequential\"\u001b[0m\n"
      ]
     },
     "metadata": {},
     "output_type": "display_data"
    },
    {
     "data": {
      "text/html": [
       "<pre style=\"white-space:pre;overflow-x:auto;line-height:normal;font-family:Menlo,'DejaVu Sans Mono',consolas,'Courier New',monospace\">┏━━━━━━━━━━━━━━━━━━━━━━━━━━━━━━━━━━━━━━┳━━━━━━━━━━━━━━━━━━━━━━━━━━━━━┳━━━━━━━━━━━━━━━━━┓\n",
       "┃<span style=\"font-weight: bold\"> Layer (type)                         </span>┃<span style=\"font-weight: bold\"> Output Shape                </span>┃<span style=\"font-weight: bold\">         Param # </span>┃\n",
       "┡━━━━━━━━━━━━━━━━━━━━━━━━━━━━━━━━━━━━━━╇━━━━━━━━━━━━━━━━━━━━━━━━━━━━━╇━━━━━━━━━━━━━━━━━┩\n",
       "│ embedding (<span style=\"color: #0087ff; text-decoration-color: #0087ff\">Embedding</span>)                │ ?                           │     <span style=\"color: #00af00; text-decoration-color: #00af00\">0</span> (unbuilt) │\n",
       "├──────────────────────────────────────┼─────────────────────────────┼─────────────────┤\n",
       "│ bidirectional (<span style=\"color: #0087ff; text-decoration-color: #0087ff\">Bidirectional</span>)        │ ?                           │     <span style=\"color: #00af00; text-decoration-color: #00af00\">0</span> (unbuilt) │\n",
       "├──────────────────────────────────────┼─────────────────────────────┼─────────────────┤\n",
       "│ dense (<span style=\"color: #0087ff; text-decoration-color: #0087ff\">Dense</span>)                        │ ?                           │     <span style=\"color: #00af00; text-decoration-color: #00af00\">0</span> (unbuilt) │\n",
       "├──────────────────────────────────────┼─────────────────────────────┼─────────────────┤\n",
       "│ dense_1 (<span style=\"color: #0087ff; text-decoration-color: #0087ff\">Dense</span>)                      │ ?                           │     <span style=\"color: #00af00; text-decoration-color: #00af00\">0</span> (unbuilt) │\n",
       "└──────────────────────────────────────┴─────────────────────────────┴─────────────────┘\n",
       "</pre>\n"
      ],
      "text/plain": [
       "┏━━━━━━━━━━━━━━━━━━━━━━━━━━━━━━━━━━━━━━┳━━━━━━━━━━━━━━━━━━━━━━━━━━━━━┳━━━━━━━━━━━━━━━━━┓\n",
       "┃\u001b[1m \u001b[0m\u001b[1mLayer (type)                        \u001b[0m\u001b[1m \u001b[0m┃\u001b[1m \u001b[0m\u001b[1mOutput Shape               \u001b[0m\u001b[1m \u001b[0m┃\u001b[1m \u001b[0m\u001b[1m        Param #\u001b[0m\u001b[1m \u001b[0m┃\n",
       "┡━━━━━━━━━━━━━━━━━━━━━━━━━━━━━━━━━━━━━━╇━━━━━━━━━━━━━━━━━━━━━━━━━━━━━╇━━━━━━━━━━━━━━━━━┩\n",
       "│ embedding (\u001b[38;5;33mEmbedding\u001b[0m)                │ ?                           │     \u001b[38;5;34m0\u001b[0m (unbuilt) │\n",
       "├──────────────────────────────────────┼─────────────────────────────┼─────────────────┤\n",
       "│ bidirectional (\u001b[38;5;33mBidirectional\u001b[0m)        │ ?                           │     \u001b[38;5;34m0\u001b[0m (unbuilt) │\n",
       "├──────────────────────────────────────┼─────────────────────────────┼─────────────────┤\n",
       "│ dense (\u001b[38;5;33mDense\u001b[0m)                        │ ?                           │     \u001b[38;5;34m0\u001b[0m (unbuilt) │\n",
       "├──────────────────────────────────────┼─────────────────────────────┼─────────────────┤\n",
       "│ dense_1 (\u001b[38;5;33mDense\u001b[0m)                      │ ?                           │     \u001b[38;5;34m0\u001b[0m (unbuilt) │\n",
       "└──────────────────────────────────────┴─────────────────────────────┴─────────────────┘\n"
      ]
     },
     "metadata": {},
     "output_type": "display_data"
    },
    {
     "data": {
      "text/html": [
       "<pre style=\"white-space:pre;overflow-x:auto;line-height:normal;font-family:Menlo,'DejaVu Sans Mono',consolas,'Courier New',monospace\"><span style=\"font-weight: bold\"> Total params: </span><span style=\"color: #00af00; text-decoration-color: #00af00\">0</span> (0.00 B)\n",
       "</pre>\n"
      ],
      "text/plain": [
       "\u001b[1m Total params: \u001b[0m\u001b[38;5;34m0\u001b[0m (0.00 B)\n"
      ]
     },
     "metadata": {},
     "output_type": "display_data"
    },
    {
     "data": {
      "text/html": [
       "<pre style=\"white-space:pre;overflow-x:auto;line-height:normal;font-family:Menlo,'DejaVu Sans Mono',consolas,'Courier New',monospace\"><span style=\"font-weight: bold\"> Trainable params: </span><span style=\"color: #00af00; text-decoration-color: #00af00\">0</span> (0.00 B)\n",
       "</pre>\n"
      ],
      "text/plain": [
       "\u001b[1m Trainable params: \u001b[0m\u001b[38;5;34m0\u001b[0m (0.00 B)\n"
      ]
     },
     "metadata": {},
     "output_type": "display_data"
    },
    {
     "data": {
      "text/html": [
       "<pre style=\"white-space:pre;overflow-x:auto;line-height:normal;font-family:Menlo,'DejaVu Sans Mono',consolas,'Courier New',monospace\"><span style=\"font-weight: bold\"> Non-trainable params: </span><span style=\"color: #00af00; text-decoration-color: #00af00\">0</span> (0.00 B)\n",
       "</pre>\n"
      ],
      "text/plain": [
       "\u001b[1m Non-trainable params: \u001b[0m\u001b[38;5;34m0\u001b[0m (0.00 B)\n"
      ]
     },
     "metadata": {},
     "output_type": "display_data"
    }
   ],
   "source": [
    "model.summary()"
   ]
  },
  {
   "cell_type": "code",
   "execution_count": 23,
   "id": "544d39a2",
   "metadata": {
    "execution": {
     "iopub.execute_input": "2025-03-22T20:30:13.380949Z",
     "iopub.status.busy": "2025-03-22T20:30:13.380563Z",
     "iopub.status.idle": "2025-03-22T20:30:13.397649Z",
     "shell.execute_reply": "2025-03-22T20:30:13.396872Z"
    },
    "papermill": {
     "duration": 0.16046,
     "end_time": "2025-03-22T20:30:13.399432",
     "exception": false,
     "start_time": "2025-03-22T20:30:13.238972",
     "status": "completed"
    },
    "tags": []
   },
   "outputs": [],
   "source": [
    "model.compile(loss=\"binary_crossentropy\",\n",
    "              optimizer=\"adam\",\n",
    "              metrics=['accuracy'])"
   ]
  },
  {
   "cell_type": "code",
   "execution_count": 24,
   "id": "aa301bb2",
   "metadata": {
    "execution": {
     "iopub.execute_input": "2025-03-22T20:30:13.683244Z",
     "iopub.status.busy": "2025-03-22T20:30:13.682923Z",
     "iopub.status.idle": "2025-03-22T20:33:40.632289Z",
     "shell.execute_reply": "2025-03-22T20:33:40.631060Z"
    },
    "papermill": {
     "duration": 207.093366,
     "end_time": "2025-03-22T20:33:40.634159",
     "exception": false,
     "start_time": "2025-03-22T20:30:13.540793",
     "status": "completed"
    },
    "tags": []
   },
   "outputs": [
    {
     "name": "stdout",
     "output_type": "stream",
     "text": [
      "Epoch 1/10\n",
      "\u001b[1m196/196\u001b[0m \u001b[32m━━━━━━━━━━━━━━━━━━━━\u001b[0m\u001b[37m\u001b[0m \u001b[1m25s\u001b[0m 103ms/step - accuracy: 0.6002 - loss: 0.9383 - val_accuracy: 0.8612 - val_loss: 0.4166\n",
      "Epoch 2/10\n",
      "\u001b[1m196/196\u001b[0m \u001b[32m━━━━━━━━━━━━━━━━━━━━\u001b[0m\u001b[37m\u001b[0m \u001b[1m21s\u001b[0m 104ms/step - accuracy: 0.8872 - loss: 0.3229 - val_accuracy: 0.8674 - val_loss: 0.3649\n",
      "Epoch 3/10\n",
      "\u001b[1m196/196\u001b[0m \u001b[32m━━━━━━━━━━━━━━━━━━━━\u001b[0m\u001b[37m\u001b[0m \u001b[1m20s\u001b[0m 104ms/step - accuracy: 0.9051 - loss: 0.2805 - val_accuracy: 0.8737 - val_loss: 0.4324\n",
      "Epoch 4/10\n",
      "\u001b[1m196/196\u001b[0m \u001b[32m━━━━━━━━━━━━━━━━━━━━\u001b[0m\u001b[37m\u001b[0m \u001b[1m20s\u001b[0m 101ms/step - accuracy: 0.9166 - loss: 0.2463 - val_accuracy: 0.8633 - val_loss: 0.4681\n",
      "Epoch 5/10\n",
      "\u001b[1m196/196\u001b[0m \u001b[32m━━━━━━━━━━━━━━━━━━━━\u001b[0m\u001b[37m\u001b[0m \u001b[1m20s\u001b[0m 104ms/step - accuracy: 0.9249 - loss: 0.2367 - val_accuracy: 0.8815 - val_loss: 0.6355\n",
      "Epoch 6/10\n",
      "\u001b[1m196/196\u001b[0m \u001b[32m━━━━━━━━━━━━━━━━━━━━\u001b[0m\u001b[37m\u001b[0m \u001b[1m20s\u001b[0m 101ms/step - accuracy: 0.9377 - loss: 0.2007 - val_accuracy: 0.8206 - val_loss: 0.9351\n",
      "Epoch 7/10\n",
      "\u001b[1m196/196\u001b[0m \u001b[32m━━━━━━━━━━━━━━━━━━━━\u001b[0m\u001b[37m\u001b[0m \u001b[1m20s\u001b[0m 102ms/step - accuracy: 0.9414 - loss: 0.2146 - val_accuracy: 0.7230 - val_loss: 0.5876\n",
      "Epoch 8/10\n",
      "\u001b[1m196/196\u001b[0m \u001b[32m━━━━━━━━━━━━━━━━━━━━\u001b[0m\u001b[37m\u001b[0m \u001b[1m21s\u001b[0m 105ms/step - accuracy: 0.8821 - loss: 0.3571 - val_accuracy: 0.8490 - val_loss: 0.9206\n",
      "Epoch 9/10\n",
      "\u001b[1m196/196\u001b[0m \u001b[32m━━━━━━━━━━━━━━━━━━━━\u001b[0m\u001b[37m\u001b[0m \u001b[1m20s\u001b[0m 101ms/step - accuracy: 0.9450 - loss: 0.2086 - val_accuracy: 0.8604 - val_loss: 0.8561\n",
      "Epoch 10/10\n",
      "\u001b[1m196/196\u001b[0m \u001b[32m━━━━━━━━━━━━━━━━━━━━\u001b[0m\u001b[37m\u001b[0m \u001b[1m20s\u001b[0m 104ms/step - accuracy: 0.9565 - loss: 0.1733 - val_accuracy: 0.8471 - val_loss: 0.9807\n"
     ]
    }
   ],
   "source": [
    "history=model.fit(number_of_train,y_train,epochs=10,batch_size=128,validation_data=(number_of_test,y_test),validation_steps=30)"
   ]
  },
  {
   "cell_type": "code",
   "execution_count": 25,
   "id": "d189b9c4",
   "metadata": {
    "execution": {
     "iopub.execute_input": "2025-03-22T20:33:41.146444Z",
     "iopub.status.busy": "2025-03-22T20:33:41.146090Z",
     "iopub.status.idle": "2025-03-22T20:33:54.890687Z",
     "shell.execute_reply": "2025-03-22T20:33:54.889566Z"
    },
    "papermill": {
     "duration": 14.001819,
     "end_time": "2025-03-22T20:33:54.892357",
     "exception": false,
     "start_time": "2025-03-22T20:33:40.890538",
     "status": "completed"
    },
    "tags": []
   },
   "outputs": [
    {
     "name": "stdout",
     "output_type": "stream",
     "text": [
      "\u001b[1m782/782\u001b[0m \u001b[32m━━━━━━━━━━━━━━━━━━━━\u001b[0m\u001b[37m\u001b[0m \u001b[1m14s\u001b[0m 17ms/step - accuracy: 0.8454 - loss: 1.0123\n",
      "Final Loss: 1.0303\n",
      "Final Accuracy: 0.8449\n"
     ]
    }
   ],
   "source": [
    "# تقييم النموذج على بيانات الاختبار\n",
    "loss, accuracy = model.evaluate(number_of_test, y_test)\n",
    "\n",
    "# طباعة النتيجة النهائية\n",
    "print(f\"Final Loss: {loss:.4f}\")\n",
    "print(f\"Final Accuracy: {accuracy:.4f}\")\n"
   ]
  },
  {
   "cell_type": "code",
   "execution_count": 26,
   "id": "5bbc846e",
   "metadata": {
    "execution": {
     "iopub.execute_input": "2025-03-22T20:33:55.432241Z",
     "iopub.status.busy": "2025-03-22T20:33:55.431907Z",
     "iopub.status.idle": "2025-03-22T20:33:55.941622Z",
     "shell.execute_reply": "2025-03-22T20:33:55.940395Z"
    },
    "papermill": {
     "duration": 0.779541,
     "end_time": "2025-03-22T20:33:55.943520",
     "exception": false,
     "start_time": "2025-03-22T20:33:55.163979",
     "status": "completed"
    },
    "tags": []
   },
   "outputs": [
    {
     "data": {
      "text/plain": [
       "(0.0, 1.0209403723478316)"
      ]
     },
     "execution_count": 26,
     "metadata": {},
     "output_type": "execute_result"
    },
    {
     "data": {
      "image/png": "[encoded data removed]",
      "text/plain": [
       "<Figure size 1600x800 with 2 Axes>"
      ]
     },
     "metadata": {},
     "output_type": "display_data"
    }
   ],
   "source": [
    "def plot_graphs(history, metric):\n",
    "    plt.plot(history.history[metric])\n",
    "    plt.plot(history.history['val_'+metric], '')\n",
    "    plt.xlabel(\"Epochs\")\n",
    "    plt.ylabel(metric)\n",
    "    plt.legend([metric, 'val_'+metric])\n",
    "plt.figure(figsize=(16, 8))\n",
    "plt.subplot(1, 2, 1)\n",
    "plot_graphs(history, 'accuracy')\n",
    "plt.ylim(None, 1)\n",
    "plt.subplot(1, 2, 2)\n",
    "plot_graphs(history, 'loss')\n",
    "plt.ylim(0, None)"
   ]
  },
  {
   "cell_type": "code",
   "execution_count": 27,
   "id": "c6758672",
   "metadata": {
    "execution": {
     "iopub.execute_input": "2025-03-22T20:33:56.537959Z",
     "iopub.status.busy": "2025-03-22T20:33:56.537543Z",
     "iopub.status.idle": "2025-03-22T20:33:57.737725Z",
     "shell.execute_reply": "2025-03-22T20:33:57.736807Z"
    },
    "papermill": {
     "duration": 1.468,
     "end_time": "2025-03-22T20:33:57.739177",
     "exception": false,
     "start_time": "2025-03-22T20:33:56.271177",
     "status": "completed"
    },
    "tags": []
   },
   "outputs": [
    {
     "name": "stdout",
     "output_type": "stream",
     "text": [
      "\u001b[1m1/1\u001b[0m \u001b[32m━━━━━━━━━━━━━━━━━━━━\u001b[0m\u001b[37m\u001b[0m \u001b[1m0s\u001b[0m 347ms/step\n",
      "Prediction Score:  [[0.07496899]]\n",
      "This is an negative review\n",
      "\u001b[1m1/1\u001b[0m \u001b[32m━━━━━━━━━━━━━━━━━━━━\u001b[0m\u001b[37m\u001b[0m \u001b[1m0s\u001b[0m 34ms/step\n",
      "Prediction Score:  [[0.22965407]]\n",
      "This is an negative review\n",
      "\n",
      "********************POSITIVES********************\n",
      "\u001b[1m1/1\u001b[0m \u001b[32m━━━━━━━━━━━━━━━━━━━━\u001b[0m\u001b[37m\u001b[0m \u001b[1m0s\u001b[0m 35ms/step\n",
      "Prediction Score:  [[1.1107856]]\n",
      "This is an positive review\n",
      "\u001b[1m1/1\u001b[0m \u001b[32m━━━━━━━━━━━━━━━━━━━━\u001b[0m\u001b[37m\u001b[0m \u001b[1m0s\u001b[0m 35ms/step\n",
      "Prediction Score:  [[1.0376407]]\n",
      "This is an positive review\n",
      "\u001b[1m1/1\u001b[0m \u001b[32m━━━━━━━━━━━━━━━━━━━━\u001b[0m\u001b[37m\u001b[0m \u001b[1m0s\u001b[0m 34ms/step\n",
      "Prediction Score:  [[1.3175778]]\n",
      "This is an positive review\n",
      "\u001b[1m1/1\u001b[0m \u001b[32m━━━━━━━━━━━━━━━━━━━━\u001b[0m\u001b[37m\u001b[0m \u001b[1m0s\u001b[0m 34ms/step\n",
      "Prediction Score:  [[1.1294934]]\n",
      "This is an positive review\n",
      "\n",
      "********************NEGATIVES********************\n",
      "\u001b[1m1/1\u001b[0m \u001b[32m━━━━━━━━━━━━━━━━━━━━\u001b[0m\u001b[37m\u001b[0m \u001b[1m0s\u001b[0m 35ms/step\n",
      "Prediction Score:  [[-0.02347663]]\n",
      "This is an negative review\n",
      "\u001b[1m1/1\u001b[0m \u001b[32m━━━━━━━━━━━━━━━━━━━━\u001b[0m\u001b[37m\u001b[0m \u001b[1m0s\u001b[0m 34ms/step\n",
      "Prediction Score:  [[-0.24044944]]\n",
      "This is an negative review\n",
      "\u001b[1m1/1\u001b[0m \u001b[32m━━━━━━━━━━━━━━━━━━━━\u001b[0m\u001b[37m\u001b[0m \u001b[1m0s\u001b[0m 35ms/step\n",
      "Prediction Score:  [[0.3116745]]\n",
      "This is an negative review\n",
      "\u001b[1m1/1\u001b[0m \u001b[32m━━━━━━━━━━━━━━━━━━━━\u001b[0m\u001b[37m\u001b[0m \u001b[1m0s\u001b[0m 34ms/step\n",
      "Prediction Score:  [[-0.02613395]]\n",
      "This is an negative review\n"
     ]
    }
   ],
   "source": [
    "sample_text = ('the movie was not good. the animation and the graphics were terrible. I would not recommend this movie.')\n",
    "positive_text=(\"the movie was good, we enjoyed it with family, it was pretty fun\")\n",
    "def decide(text):\n",
    "    text=np.setdiff1d(encoder(text).numpy(),[delist])\n",
    "    text=pad_sequences([text],maxlen=maxlen)\n",
    "    prediction = model.predict(text)\n",
    "    print(\"Prediction Score: \",prediction)\n",
    "    if prediction>0.5:print(\"This is an positive review\")\n",
    "    else:print(\"This is an negative review\")\n",
    "        \n",
    "        \n",
    "decide(sample_text)\n",
    "decide(positive_text)\n",
    "print()\n",
    "print(\"*\"*20+\"POSITIVES\"+\"*\"*20)\n",
    "decide(positive_example)\n",
    "decide(positive_example2),\n",
    "decide(positive_example3)\n",
    "decide(positive_example4)\n",
    "print()\n",
    "print(\"*\"*20+\"NEGATIVES\"+\"*\"*20)\n",
    "decide(negative_example)\n",
    "decide(negative_example2)\n",
    "decide(negative_example3)\n",
    "decide(negative_example4)"
   ]
  },
  {
   "cell_type": "code",
   "execution_count": 28,
   "id": "47b44e85",
   "metadata": {
    "execution": {
     "iopub.execute_input": "2025-03-22T20:33:58.284007Z",
     "iopub.status.busy": "2025-03-22T20:33:58.283583Z",
     "iopub.status.idle": "2025-03-22T20:33:58.376180Z",
     "shell.execute_reply": "2025-03-22T20:33:58.375136Z"
    },
    "papermill": {
     "duration": 0.365478,
     "end_time": "2025-03-22T20:33:58.377642",
     "exception": false,
     "start_time": "2025-03-22T20:33:58.012164",
     "status": "completed"
    },
    "tags": []
   },
   "outputs": [
    {
     "name": "stdout",
     "output_type": "stream",
     "text": [
      "\u001b[1m1/1\u001b[0m \u001b[32m━━━━━━━━━━━━━━━━━━━━\u001b[0m\u001b[37m\u001b[0m \u001b[1m0s\u001b[0m 35ms/step\n",
      "Prediction Score:  [[-0.17081244]]\n",
      "This is an negative review\n"
     ]
    }
   ],
   "source": [
    "#a negative review example from google\n",
    "decide(\"This film has got to be the epitome of terrible writing and should be a classroom example of 'what not to do' when writing a screenplay. Why would Joshua take on (clearly) amateur writer Adam Gaines script is beyond me. Even his good directing and excellent cinematography could not save this disaster.\")"
   ]
  },
  {
   "cell_type": "code",
   "execution_count": 29,
   "id": "49d9df32",
   "metadata": {
    "execution": {
     "iopub.execute_input": "2025-03-22T20:33:58.977075Z",
     "iopub.status.busy": "2025-03-22T20:33:58.976697Z",
     "iopub.status.idle": "2025-03-22T20:33:59.073974Z",
     "shell.execute_reply": "2025-03-22T20:33:59.073164Z"
    },
    "papermill": {
     "duration": 0.372335,
     "end_time": "2025-03-22T20:33:59.075571",
     "exception": false,
     "start_time": "2025-03-22T20:33:58.703236",
     "status": "completed"
    },
    "tags": []
   },
   "outputs": [
    {
     "name": "stdout",
     "output_type": "stream",
     "text": [
      "\u001b[1m1/1\u001b[0m \u001b[32m━━━━━━━━━━━━━━━━━━━━\u001b[0m\u001b[37m\u001b[0m \u001b[1m0s\u001b[0m 35ms/step\n",
      "Prediction Score:  [[1.1286846]]\n",
      "This is an positive review\n"
     ]
    }
   ],
   "source": [
    "#a positive review example from google\n",
    "decide(\" It is a limited budget Indie action film that has the look, feel, and heartfelt acting of a high-quality big budget movie. Katia Winter gives Academy Award worthy performance. Would be terrific to see on the big screen. No spoilers. Just sit back and enjoy as the story unfolds. Would Rate as 12 if possible.\")"
   ]
  }
 ],
 "metadata": {
  "kaggle": {
   "accelerator": "none",
   "dataSources": [
    {
     "datasetId": 9914,
     "sourceId": 14036,
     "sourceType": "datasetVersion"
    }
   ],
   "dockerImageVersionId": 30918,
   "isGpuEnabled": false,
   "isInternetEnabled": false,
   "language": "python",
   "sourceType": "notebook"
  },
  "kernelspec": {
   "display_name": "Python 3",
   "language": "python",
   "name": "python3"
  },
  "language_info": {
   "codemirror_mode": {
    "name": "ipython",
    "version": 3
   },
   "file_extension": ".py",
   "mimetype": "text/x-python",
   "name": "python",
   "nbconvert_exporter": "python",
   "pygments_lexer": "ipython3",
   "version": "3.10.12"
  },
  "papermill": {
   "default_parameters": {},
   "duration": 520.020402,
   "end_time": "2025-03-22T20:34:01.796083",
   "environment_variables": {},
   "exception": null,
   "input_path": "__notebook__.ipynb",
   "output_path": "__notebook__.ipynb",
   "parameters": {},
   "start_time": "2025-03-22T20:25:21.775681",
   "version": "2.6.0"
  }
 },
 "nbformat": 4,
 "nbformat_minor": 5
}
